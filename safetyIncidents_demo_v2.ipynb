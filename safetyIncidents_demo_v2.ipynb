{
 "cells": [
  {
   "cell_type": "markdown",
   "metadata": {},
   "source": [
    "**Illustration of text analysis for identifying potential safety incidents in patient feedback**\n",
    "\n"
   ]
  },
  {
   "cell_type": "code",
   "execution_count": 1,
   "metadata": {
    "ExecuteTime": {
     "end_time": "2020-10-06T18:06:15.820388Z",
     "start_time": "2020-10-06T18:06:15.816387Z"
    }
   },
   "outputs": [],
   "source": [
    "# LAUNCHING WITH VOILA LOCALLY\n",
    "#1 anaconda terminal window\n",
    "#2 go to the folder with the notebook to run with voila\n",
    "#3 type `voila path_to_notebook optional_options --debug`\n",
    "#4 close voila cmd window = CTRL+c"
   ]
  },
  {
   "cell_type": "code",
   "execution_count": null,
   "metadata": {},
   "outputs": [],
   "source": [
    "##https://mybinder.org/v2/gh/473x/safetyIncidents_demo/master?urlpath=/voila/render/safetyIncidents_demo_v2.ipynb\n",
    "#https://hub.gke2.mybinder.org/v2/gh/473x/safetyIncidents_demo/voila/render/safetyIncidents_demo_v2.ipynb\n",
    "#    \n",
    "# # working binder urls\n",
    "#\n",
    "#https://hub.gke2.mybinder.org/user/fomightez-communication_voila-93469aro/voila/render/scripts/basics.ipynb?token=yRopW3mlRO6l4yGy1IuG-Q\n",
    "#\n",
    "#https://hub.gke2.mybinder.org/user/dpgoldenberg-53-363fe65dd833229-eet1ar1s/voila/render/covidSimulation.ipynb?token=6kCD6eQYTGeTIWujLwjFxw   "
   ]
  },
  {
   "cell_type": "code",
   "execution_count": 2,
   "metadata": {
    "ExecuteTime": {
     "end_time": "2020-10-06T18:06:15.836387Z",
     "start_time": "2020-10-06T18:06:15.821387Z"
    }
   },
   "outputs": [],
   "source": [
    "# LAUNCHING VIA GITHUB & BINDER\n",
    "# create environment only using pip\n",
    "# pip freeze > requirements.txt\n",
    "# remove any conda requirements from requirements.txt\n",
    "# remove pywin32 (if present) - not needed and won't run on linux server\n",
    "# push\n",
    "# in my binder, add 'URL' = /voila/render/<path_to_ipynb>\n",
    "# don't 'launch', but instead, copy and past the created URL"
   ]
  },
  {
   "cell_type": "code",
   "execution_count": 3,
   "metadata": {
    "ExecuteTime": {
     "end_time": "2020-10-06T18:06:15.884386Z",
     "start_time": "2020-10-06T18:06:15.837388Z"
    }
   },
   "outputs": [
    {
     "data": {
      "text/html": [
       "<style>.container{width:80%}</style>"
      ],
      "text/plain": [
       "<IPython.core.display.HTML object>"
      ]
     },
     "metadata": {},
     "output_type": "display_data"
    }
   ],
   "source": [
    "import ipywidgets as widgets\n",
    "from ipywidgets import Textarea, Dropdown, jslink, interact, Layout\n",
    "from IPython.display import  display\n",
    "\n",
    "from IPython.core.interactiveshell import InteractiveShell\n",
    "InteractiveShell.ast_node_interactivity = \"all\"\n",
    "from IPython.core.display import display, HTML\n",
    "display(HTML(\"<style>.container{width:80%}</style>\"))"
   ]
  },
  {
   "cell_type": "code",
   "execution_count": 4,
   "metadata": {
    "ExecuteTime": {
     "end_time": "2020-10-06T18:06:19.305386Z",
     "start_time": "2020-10-06T18:06:15.885388Z"
    }
   },
   "outputs": [],
   "source": [
    "import spacy\n",
    "from spacy import displacy\n",
    "nlp = spacy.load('en_core_web_lg')"
   ]
  },
  {
   "cell_type": "code",
   "execution_count": 5,
   "metadata": {
    "ExecuteTime": {
     "end_time": "2020-10-06T18:06:19.321386Z",
     "start_time": "2020-10-06T18:06:19.306386Z"
    }
   },
   "outputs": [],
   "source": [
    "intro = '''\n",
    "Introduction: This web app illustrates the algorithm that we used to measure safety incidents in patient feedback posted online.\n",
    "\\nInstruction: Type text into this box, or, select an example above.\n",
    "\\nOutput: Below is an 'overall score' for any text in this box, and a visualization of the score for each sentence.\n",
    "'''\n",
    "\n",
    "story1 = '''\n",
    "My mam was admitted to Durham hospital being sick, couldnt get her breath. A nurse knocked mam's leg getting her into bed. Mam had cellulitus, swelling to right leg, had chronic kidney disease, diabetic, copd xmas day 2011 needed beds. No ambulances.Mam sick after lunch in 24hrs, given 600mgs tramadol, nurse again knocked mams right leg same place caused tear to skin. been sick. discharged her.When mam got home, leg pouring of blood. high as a kite. should never have been discharged. Two days after, mam dizzy, had fall, fractured humerus. No pressure sores on admission, when discharged had sores left hip, right hip, heels, sacral, right elbow.Came home having to be hoisted. Tramadol 400mgs a day. Overdosed. She was sick so paramedics came took to hospital. Sepsis mam on ward six weeks. Put mam on Liverpool Care Pathway dnr (do not resusciate) without mine or mams consent.She was suffering in pain, mentally and physically. An undignified death.\n",
    "'''\n",
    "\n",
    "story2 = '''\n",
    "My wife and I continue to be impressed with the entire Haematology team. The Doctor and her Clinical Asst have been nothing but supportive over the past year in stabilising my wife's condition. This team is world class and we really do appreciate we are receiving the best care, advice and support. To ease the burden on travel the Guy's team is enabling us to visit Royal Surrey haematology an equally impressive department. We are particularly impressed by the end-to-end support not just from the technical team but from the support staff who are always helpful and keep us informed with either email, phone or text messaging. People are frequently quick to be critical but VERY slow to highlight the exceptional care they receive. In writing this note we are striving to re-dress the balance in favour of the positive. Thank you so much.\n",
    "'''\n",
    "\n",
    "story3 = '''\n",
    "My sister was admitted today, Sat 5th April, with severe back and chest pain. When the Triarge nurse came to assess her, she was in acute pain and couldn't breath. My sister's pain and anguish obviously irritated her and she threw her sheet down and said she would return when my sister calmed down! What arrogance! My sister was extremely distressed, had difficulty getting her breath and was very frightened. She was then left for 1 1/4 hours before she returned. I would like to say, that her arrogance could have well cost my sister her life. My sister, was later, that day diagnosed with pneumonia & and a blood clot on her lung. I am still seething with anger and intend to make an official complaint.\n",
    "'''\n",
    "\n",
    "story4 = '''\n",
    "I attended A&E on three occasions & on the last of these I was moved to SAU and then onto Falcon ward. The treatment I received, both medical & personal, was excellent with nothing being too much trouble for the staff, also I couldn't fault the food with a good choice of tasty items served by helpful staff. The cleaners & the porters should also be mentioned, carrying out their work efficiently & with a smile. I have already called in & left a few small tokens of my appreciation for the staff concerned ( I hope they were enjoyed ! ). So from my viewpoint no complaints at all, great service & long may it continue !!\n",
    "'''\n",
    "\n",
    "sample_stories = {'Introduction': intro, 'Feedback 1': story1, 'Feedback 2': story2, 'Feedback 3': story3, 'Feedback 4': story4}"
   ]
  },
  {
   "cell_type": "code",
   "execution_count": 6,
   "metadata": {
    "ExecuteTime": {
     "end_time": "2020-10-06T18:06:19.336386Z",
     "start_time": "2020-10-06T18:06:19.322387Z"
    }
   },
   "outputs": [],
   "source": [
    "def safety_analysis(text): #, debug=False\n",
    "    \n",
    "    seed_terms = '''dead died disfigured dying grave incapacitated killed killing \n",
    "    maimed misdiagnosed mortally \n",
    "    murdering murderous mutilated overmedicated overmedicating perished readmitted scarred \n",
    "    succumbed traumatised'''\n",
    "    seed_terms = nlp(seed_terms)\n",
    "    \n",
    "    doc = nlp(text)\n",
    "    \n",
    "    # SCORE THE WHOLE DOC\n",
    "    score_label = ''\n",
    "    score = round(seed_terms.similarity(doc), 3)\n",
    "    score_text = [{'text': 'Overall score = '+str(score),\n",
    "                      'ents': [{'start': 0, 'end': 233, 'label': score_label}],\n",
    "                      'title': None}]\n",
    "    score_options = {'colors': {score_label: 'rgb(250, 0, 0, '+str((score-0.4)*5)+')'}}  \n",
    "    # render overall score\n",
    "    displacy.render(score_text, style=\"ent\", manual=True, options=score_options, jupyter=True)\n",
    "    \n",
    "    # SCORE EACH SENTENCE\n",
    "    matches = []\n",
    "    for sent in doc.sents:\n",
    "        #print(sent)\n",
    "        if sent.has_vector:\n",
    "            score = round(seed_terms.similarity(sent), 2)\n",
    "            match = {'start': sent.start_char,\n",
    "                     'end': sent.end_char,\n",
    "                     'label': str(score)}\n",
    "            matches.append(match)\n",
    "        else:\n",
    "            pass\n",
    "   \n",
    "    # create display\n",
    "    labels = [x['label'] for x in matches]\n",
    "    # scale colors\n",
    "    label_colors = [round((float(lab)-0.4)*5, 2) for lab in labels]\n",
    "    # create color text\n",
    "    label_colors = ['rgb(250, 0, 0, '+str(alpha)+')' for alpha in label_colors]\n",
    "    # create dictionary of color dictionary\n",
    "    options = {'colors': dict(zip(labels, label_colors))}\n",
    "    display_text = [{\"text\": doc.text,\n",
    "                   \"ents\": matches,\n",
    "                   \"title\": None}]\n",
    "    # render sentences\n",
    "    displacy.render(display_text, style=\"ent\", manual=True, options=options, jupyter=True)\n",
    "    \n",
    "    #if debug==True:\n",
    "    #    print(f'score_options = {score_options}\\n')\n",
    "    #    print(f'matches = {matches}\\n')\n",
    "    #    print(f'labels = {labels}\\n')\n",
    "    #    print(f'options = {options}\\n')\n",
    "        "
   ]
  },
  {
   "cell_type": "code",
   "execution_count": 7,
   "metadata": {
    "ExecuteTime": {
     "end_time": "2020-10-06T18:06:19.400387Z",
     "start_time": "2020-10-06T18:06:19.337386Z"
    }
   },
   "outputs": [
    {
     "data": {
      "application/vnd.jupyter.widget-view+json": {
       "model_id": "34496ae148624ec695e1b74e1fd3a794",
       "version_major": 2,
       "version_minor": 0
      },
      "text/plain": [
       "Dropdown(description='Examples', options={'Introduction': \"\\nIntroduction: This web app illustrates the algori…"
      ]
     },
     "metadata": {},
     "output_type": "display_data"
    },
    {
     "data": {
      "application/vnd.jupyter.widget-view+json": {
       "model_id": "b34149a0d6ee421fba98e9ef7b5edf8b",
       "version_major": 2,
       "version_minor": 0
      },
      "text/plain": [
       "interactive(children=(Textarea(value=\"\\nIntroduction: This web app illustrates the algorithm that we used to m…"
      ]
     },
     "metadata": {},
     "output_type": "display_data"
    }
   ],
   "source": [
    "Dropdown.value.tag(sync=True) # necessary to sync dropdown to textarea\n",
    "selection = Dropdown(value=None, \n",
    "                     description='Examples', \n",
    "                     options=sample_stories,)\n",
    "text = Textarea(value=intro, \n",
    "                description='Type text', \n",
    "                layout=Layout(width=\"auto\", height=\"200px\"))\n",
    "l = jslink((text, 'value'), (selection, 'value'))\n",
    "display(selection)\n",
    "interact(safety_analysis, text=text, continuous_update=False);"
   ]
  },
  {
   "cell_type": "code",
   "execution_count": null,
   "metadata": {},
   "outputs": [],
   "source": []
  },
  {
   "cell_type": "code",
   "execution_count": null,
   "metadata": {},
   "outputs": [],
   "source": []
  }
 ],
 "metadata": {
  "kernelspec": {
   "display_name": "Python 3",
   "language": "python",
   "name": "python3"
  },
  "language_info": {
   "codemirror_mode": {
    "name": "ipython",
    "version": 3
   },
   "file_extension": ".py",
   "mimetype": "text/x-python",
   "name": "python",
   "nbconvert_exporter": "python",
   "pygments_lexer": "ipython3",
   "version": "3.8.5"
  },
  "toc": {
   "base_numbering": 1,
   "nav_menu": {},
   "number_sections": true,
   "sideBar": true,
   "skip_h1_title": false,
   "title_cell": "Table of Contents",
   "title_sidebar": "Contents",
   "toc_cell": false,
   "toc_position": {},
   "toc_section_display": true,
   "toc_window_display": false
  }
 },
 "nbformat": 4,
 "nbformat_minor": 4
}
