{
 "cells": [
  {
   "cell_type": "code",
   "execution_count": 1,
   "metadata": {
    "ExecuteTime": {
     "end_time": "2020-10-07T07:00:01.139933Z",
     "start_time": "2020-10-07T07:00:01.134935Z"
    }
   },
   "outputs": [],
   "source": [
    "# SAFETY INCIDENT MEASURE DEMO\n"
   ]
  },
  {
   "cell_type": "code",
   "execution_count": 2,
   "metadata": {
    "ExecuteTime": {
     "end_time": "2020-10-07T07:00:01.155933Z",
     "start_time": "2020-10-07T07:00:01.140935Z"
    }
   },
   "outputs": [],
   "source": [
    "# LAUNCHING WITH VOILA LOCALLY\n",
    "#1 anaconda terminal window\n",
    "#2 go to the folder with the notebook to run with voila\n",
    "#3 type `voila path_to_notebook optional_options --debug`\n",
    "#4 close voila cmd window = CTRL+c"
   ]
  },
  {
   "cell_type": "code",
   "execution_count": 3,
   "metadata": {
    "ExecuteTime": {
     "end_time": "2020-10-07T07:00:01.170935Z",
     "start_time": "2020-10-07T07:00:01.156935Z"
    }
   },
   "outputs": [],
   "source": [
    "##https://mybinder.org/v2/gh/473x/safetyIncidents_demo/master?urlpath=/voila/render/safetyIncidents_demo_v2.ipynb\n",
    "#https://hub.gke2.mybinder.org/v2/gh/473x/safetyIncidents_demo/voila/render/safetyIncidents_demo_v2.ipynb\n",
    "#    \n",
    "# # working binder urls\n",
    "#\n",
    "#https://hub.gke2.mybinder.org/user/fomightez-communication_voila-93469aro/voila/render/scripts/basics.ipynb?token=yRopW3mlRO6l4yGy1IuG-Q\n",
    "#\n",
    "#https://hub.gke2.mybinder.org/user/dpgoldenberg-53-363fe65dd833229-eet1ar1s/voila/render/covidSimulation.ipynb?token=6kCD6eQYTGeTIWujLwjFxw   "
   ]
  },
  {
   "cell_type": "code",
   "execution_count": 4,
   "metadata": {
    "ExecuteTime": {
     "end_time": "2020-10-07T07:00:01.186934Z",
     "start_time": "2020-10-07T07:00:01.171936Z"
    }
   },
   "outputs": [],
   "source": [
    "# LAUNCHING VIA GITHUB & BINDER\n",
    "# create environment only using pip\n",
    "# pip freeze > requirements.txt\n",
    "# remove any conda requirements from requirements.txt\n",
    "# remove pywin32 (if present) - not needed and won't run on linux server\n",
    "# push\n",
    "# in my binder, add 'URL' = /voila/render/<path_to_ipynb>\n",
    "# don't 'launch', but instead, copy and past the created URL"
   ]
  },
  {
   "cell_type": "code",
   "execution_count": 5,
   "metadata": {
    "ExecuteTime": {
     "end_time": "2020-10-07T07:00:04.839446Z",
     "start_time": "2020-10-07T07:00:01.187934Z"
    }
   },
   "outputs": [
    {
     "data": {
      "text/html": [
       "<style>.container{width:80%}</style>"
      ],
      "text/plain": [
       "<IPython.core.display.HTML object>"
      ]
     },
     "metadata": {},
     "output_type": "display_data"
    }
   ],
   "source": [
    "import ipywidgets as widgets\n",
    "from ipywidgets import Textarea, Dropdown, jslink, interact, Layout\n",
    "from IPython.display import  display\n",
    "\n",
    "from IPython.core.interactiveshell import InteractiveShell\n",
    "InteractiveShell.ast_node_interactivity = \"all\"\n",
    "from IPython.core.display import display, HTML\n",
    "display(HTML(\"<style>.container{width:80%}</style>\"))\n",
    "\n",
    "import spacy\n",
    "from spacy import displacy\n",
    "nlp = spacy.load('en_core_web_lg')"
   ]
  },
  {
   "cell_type": "code",
   "execution_count": 6,
   "metadata": {
    "ExecuteTime": {
     "end_time": "2020-10-07T07:00:04.855072Z",
     "start_time": "2020-10-07T07:00:04.839446Z"
    }
   },
   "outputs": [],
   "source": [
    "intro = ''\n",
    "\n",
    "story1 = '''\n",
    "My mam was admitted to Durham hospital being sick, couldnt get her breath. A nurse knocked mam's leg getting her into bed. Mam had cellulitus, swelling to right leg, had chronic kidney disease, diabetic, copd xmas day 2011 needed beds. No ambulances.Mam sick after lunch in 24hrs, given 600mgs tramadol, nurse again knocked mams right leg same place caused tear to skin. been sick. discharged her.When mam got home, leg pouring of blood. high as a kite. should never have been discharged. Two days after, mam dizzy, had fall, fractured humerus. No pressure sores on admission, when discharged had sores left hip, right hip, heels, sacral, right elbow.Came home having to be hoisted. Tramadol 400mgs a day. Overdosed. She was sick so paramedics came took to hospital. Sepsis mam on ward six weeks. Put mam on Liverpool Care Pathway dnr (do not resusciate) without mine or mams consent.She was suffering in pain, mentally and physically. An undignified death.\n",
    "'''\n",
    "\n",
    "story2 = '''\n",
    "My wife and I continue to be impressed with the entire Haematology team. The Doctor and her Clinical Asst have been nothing but supportive over the past year in stabilising my wife's condition. This team is world class and we really do appreciate we are receiving the best care, advice and support. To ease the burden on travel the Guy's team is enabling us to visit Royal Surrey haematology an equally impressive department. We are particularly impressed by the end-to-end support not just from the technical team but from the support staff who are always helpful and keep us informed with either email, phone or text messaging. People are frequently quick to be critical but VERY slow to highlight the exceptional care they receive. In writing this note we are striving to re-dress the balance in favour of the positive. Thank you so much.\n",
    "'''\n",
    "\n",
    "story3 = '''\n",
    "My sister was admitted today, Sat 5th April, with severe back and chest pain. When the Triarge nurse came to assess her, she was in acute pain and couldn't breath. My sister's pain and anguish obviously irritated her and she threw her sheet down and said she would return when my sister calmed down! What arrogance! My sister was extremely distressed, had difficulty getting her breath and was very frightened. She was then left for 1 1/4 hours before she returned. I would like to say, that her arrogance could have well cost my sister her life. My sister, was later, that day diagnosed with pneumonia & and a blood clot on her lung. I am still seething with anger and intend to make an official complaint.\n",
    "'''\n",
    "\n",
    "story4 = '''\n",
    "I attended A&E on three occasions & on the last of these I was moved to SAU and then onto Falcon ward. The treatment I received, both medical & personal, was excellent with nothing being too much trouble for the staff, also I couldn't fault the food with a good choice of tasty items served by helpful staff. The cleaners & the porters should also be mentioned, carrying out their work efficiently & with a smile. I have already called in & left a few small tokens of my appreciation for the staff concerned ( I hope they were enjoyed ! ). So from my viewpoint no complaints at all, great service & long may it continue !!\n",
    "'''\n",
    "\n",
    "story5 = '''\n",
    "My baby was born three weeks ago at Royal Berkshire. I am appalled and upset with the way the midwifes dealt with my baby. Soon as baby was born he was given to me and after 30 mins taken and passed to my husband. Baby had pooped inside the womb so needed extra checks. However, nobody checked him even after being passed to my husband I had gone into theatre and baby still hadn't been checked for 40 further minutes until my husband had to press emergency button as he wasn't breathing very well. No one changed him or clothed him and he hadn't eaten in three hours. Very distressing terrible midwife. I hope noone has to suffer this way\n",
    "'''\n",
    "\n",
    "story6 = '''\n",
    "Under the care of the colorectal department, the team of drs care during my daycase surgery was faultless, both very professional, informative & reassuring. From the admin to care assistants to nursing staff & theatre staff they were welcoming, friendly & approachable . The waiting area, day case area and theatres were all very clean & in good decorative order. All very important factors to why I would be happy to recommend this hospital. Oh & not to forget the colorectal secreterial/admin staff who go that extra mile to help make things go smoothly. Thank-you.\n",
    "'''\n",
    "\n",
    "sample_stories = {'Choose an example': intro, 'Feedback 1': story1, 'Feedback 2': story2, 'Feedback 3': story3, 'Feedback 4': story4, 'Feedback 5': story5, 'Feedback 6': story6}"
   ]
  },
  {
   "cell_type": "code",
   "execution_count": 7,
   "metadata": {
    "ExecuteTime": {
     "end_time": "2020-10-07T07:00:04.870698Z",
     "start_time": "2020-10-07T07:00:04.855072Z"
    }
   },
   "outputs": [],
   "source": [
    "def safety_analysis(text): #, debug=False\n",
    "    \n",
    "    seed_terms = '''dead died disfigured dying grave incapacitated killed killing \n",
    "    maimed misdiagnosed mortally \n",
    "    murdering murderous mutilated overmedicated overmedicating perished readmitted scarred \n",
    "    succumbed traumatised'''\n",
    "    seed_terms = nlp(seed_terms)\n",
    "    \n",
    "    doc = nlp(text)\n",
    "    \n",
    "    if len(doc)<2:\n",
    "        pass\n",
    "        \n",
    "    else:\n",
    "    \n",
    "        # SCORE THE WHOLE DOC\n",
    "        score_label = ''\n",
    "        score = round(seed_terms.similarity(doc), 3)\n",
    "        score_text = [{'text': 'Overall score = '+str(score),\n",
    "                          'ents': [{'start': 0, 'end': 233, 'label': score_label}],\n",
    "                          'title': None}]\n",
    "        score_options = {'colors': {score_label: 'rgb(250, 0, 0, '+str((score-0.4)*5)+')'}}  \n",
    "        # render overall score\n",
    "        displacy.render(score_text, style=\"ent\", manual=True, options=score_options, jupyter=True)\n",
    "        \n",
    "        # SCORE EACH SENTENCE\n",
    "        matches = []\n",
    "        for sent in doc.sents:\n",
    "            #print(sent)\n",
    "            if sent.has_vector:\n",
    "                score = round(seed_terms.similarity(sent), 2)\n",
    "                match = {'start': sent.start_char,\n",
    "                         'end': sent.end_char,\n",
    "                         'label': str(score)}\n",
    "                matches.append(match)\n",
    "            else:\n",
    "                pass\n",
    "       \n",
    "        # create display\n",
    "        labels = [x['label'] for x in matches]\n",
    "        # scale colors\n",
    "        label_colors = [round((float(lab)-0.4)*5, 2) for lab in labels]\n",
    "        # create color text\n",
    "        label_colors = ['rgb(250, 0, 0, '+str(alpha)+')' for alpha in label_colors]\n",
    "        # create dictionary of color dictionary\n",
    "        options = {'colors': dict(zip(labels, label_colors))}\n",
    "        display_text = [{\"text\": doc.text,\n",
    "                       \"ents\": matches,\n",
    "                       \"title\": None}]\n",
    "        # render sentences\n",
    "        displacy.render(display_text, style=\"ent\", manual=True, options=options, jupyter=True)\n",
    "        \n",
    "        #if debug==True:\n",
    "        #    print(f'score_options = {score_options}\\n')\n",
    "        #    print(f'matches = {matches}\\n')\n",
    "        #    print(f'labels = {labels}\\n')\n",
    "        #    print(f'options = {options}\\n')\n",
    "            "
   ]
  },
  {
   "cell_type": "markdown",
   "metadata": {},
   "source": [
    "**<font size=\"5\"> Safety Incident Measure </font>**\n",
    "\n",
    "\n",
    "This app illustrates an algorithm to measure safety incidents in patient feedback.\n",
    "\n",
    "Paste or type into the textbox below, or, select an example.\n",
    "\n",
    "The algorithm outputs an 'overall score' and a visualization of the score for each sentence."
   ]
  },
  {
   "cell_type": "code",
   "execution_count": 10,
   "metadata": {
    "ExecuteTime": {
     "end_time": "2020-10-07T07:00:53.915042Z",
     "start_time": "2020-10-07T07:00:53.882044Z"
    }
   },
   "outputs": [
    {
     "data": {
      "application/vnd.jupyter.widget-view+json": {
       "model_id": "4927f1f2c35a4f628506100761bb089b",
       "version_major": 2,
       "version_minor": 0
      },
      "text/plain": [
       "Dropdown(description='Examples', options={'Choose an example': '', 'Feedback 1': \"\\nMy mam was admitted to Dur…"
      ]
     },
     "metadata": {},
     "output_type": "display_data"
    },
    {
     "data": {
      "application/vnd.jupyter.widget-view+json": {
       "model_id": "0849f180be624c699f4041c25c0bc49d",
       "version_major": 2,
       "version_minor": 0
      },
      "text/plain": [
       "interactive(children=(Textarea(value='', description='Type text', layout=Layout(height='240px', width='auto'),…"
      ]
     },
     "metadata": {},
     "output_type": "display_data"
    }
   ],
   "source": [
    "Dropdown.value.tag(sync=True) # necessary to sync dropdown to textarea\n",
    "selection = Dropdown(value=None, \n",
    "                     description='Examples', \n",
    "                     options=sample_stories,)\n",
    "text = Textarea(value=intro, \n",
    "                description='Type text', \n",
    "                placeholder = 'Type or paste text here',\n",
    "                layout=Layout(width=\"auto\", height=\"240px\"))\n",
    "l = jslink((text, 'value'), (selection, 'value'))\n",
    "display(selection)\n",
    "interact(safety_analysis, text=text, continuous_update=False);"
   ]
  },
  {
   "cell_type": "code",
   "execution_count": null,
   "metadata": {},
   "outputs": [],
   "source": []
  },
  {
   "cell_type": "code",
   "execution_count": null,
   "metadata": {},
   "outputs": [],
   "source": []
  }
 ],
 "metadata": {
  "kernelspec": {
   "display_name": "Python 3",
   "language": "python",
   "name": "python3"
  },
  "language_info": {
   "codemirror_mode": {
    "name": "ipython",
    "version": 3
   },
   "file_extension": ".py",
   "mimetype": "text/x-python",
   "name": "python",
   "nbconvert_exporter": "python",
   "pygments_lexer": "ipython3",
   "version": "3.8.3"
  },
  "toc": {
   "base_numbering": 1,
   "nav_menu": {},
   "number_sections": true,
   "sideBar": true,
   "skip_h1_title": false,
   "title_cell": "Table of Contents",
   "title_sidebar": "Contents",
   "toc_cell": false,
   "toc_position": {},
   "toc_section_display": true,
   "toc_window_display": false
  }
 },
 "nbformat": 4,
 "nbformat_minor": 4
}
