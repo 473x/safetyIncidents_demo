{
 "cells": [
  {
   "cell_type": "code",
   "execution_count": 1,
   "metadata": {
    "ExecuteTime": {
     "end_time": "2020-10-07T18:56:58.176261Z",
     "start_time": "2020-10-07T18:56:58.170259Z"
    }
   },
   "outputs": [],
   "source": [
    "# SAFETY INCIDENT MEASURE DEMO"
   ]
  },
  {
   "cell_type": "code",
   "execution_count": 2,
   "metadata": {
    "ExecuteTime": {
     "end_time": "2020-10-07T18:56:58.192259Z",
     "start_time": "2020-10-07T18:56:58.177258Z"
    }
   },
   "outputs": [],
   "source": [
    "# LAUNCHING WITH VOILA LOCALLY\n",
    "#1 anaconda terminal window\n",
    "#2 go to the folder with the notebook to run with voila\n",
    "#3 type `voila path_to_notebook optional_options --debug`\n",
    "#4 close voila cmd window = CTRL+c"
   ]
  },
  {
   "cell_type": "code",
   "execution_count": 3,
   "metadata": {
    "ExecuteTime": {
     "end_time": "2020-10-07T18:56:58.208260Z",
     "start_time": "2020-10-07T18:56:58.193260Z"
    }
   },
   "outputs": [],
   "source": [
    "##https://mybinder.org/v2/gh/473x/safetyIncidents_demo/master?urlpath=/voila/render/safetyIncidents_demo_v2.ipynb\n",
    "#https://hub.gke2.mybinder.org/v2/gh/473x/safetyIncidents_demo/voila/render/safetyIncidents_demo_v2.ipynb\n",
    "#    \n",
    "# # working binder urls\n",
    "#\n",
    "#https://hub.gke2.mybinder.org/user/fomightez-communication_voila-93469aro/voila/render/scripts/basics.ipynb?token=yRopW3mlRO6l4yGy1IuG-Q\n",
    "#\n",
    "#https://hub.gke2.mybinder.org/user/dpgoldenberg-53-363fe65dd833229-eet1ar1s/voila/render/covidSimulation.ipynb?token=6kCD6eQYTGeTIWujLwjFxw   "
   ]
  },
  {
   "cell_type": "code",
   "execution_count": 4,
   "metadata": {
    "ExecuteTime": {
     "end_time": "2020-10-07T18:56:58.224257Z",
     "start_time": "2020-10-07T18:56:58.209261Z"
    }
   },
   "outputs": [],
   "source": [
    "# LAUNCHING VIA GITHUB & BINDER\n",
    "# create environment only using pip\n",
    "# pip freeze > requirements.txt\n",
    "# remove any conda requirements from requirements.txt\n",
    "# remove pywin32 (if present) - not needed and won't run on linux server\n",
    "# push\n",
    "# in my binder, add 'URL' = /voila/render/<path_to_ipynb>\n",
    "# don't 'launch', but instead, copy and past the created URL"
   ]
  },
  {
   "cell_type": "code",
   "execution_count": 5,
   "metadata": {
    "ExecuteTime": {
     "end_time": "2020-10-07T18:57:01.926258Z",
     "start_time": "2020-10-07T18:56:58.225260Z"
    }
   },
   "outputs": [
    {
     "data": {
      "text/html": [
       "<style>.container{width:80%}</style>"
      ],
      "text/plain": [
       "<IPython.core.display.HTML object>"
      ]
     },
     "metadata": {},
     "output_type": "display_data"
    }
   ],
   "source": [
    "import pandas as pd\n",
    "import random\n",
    "\n",
    "import ipywidgets as widgets\n",
    "from ipywidgets import Textarea, jslink, interact, Layout, Button #Dropdown, \n",
    "from IPython.display import  display\n",
    "\n",
    "from IPython.core.interactiveshell import InteractiveShell\n",
    "InteractiveShell.ast_node_interactivity = \"all\"\n",
    "from IPython.core.display import display, HTML\n",
    "display(HTML(\"<style>.container{width:80%}</style>\"))\n",
    "\n",
    "import spacy\n",
    "from spacy import displacy\n",
    "nlp = spacy.load('en_core_web_lg')"
   ]
  },
  {
   "cell_type": "code",
   "execution_count": 6,
   "metadata": {
    "ExecuteTime": {
     "end_time": "2020-10-07T18:57:01.958260Z",
     "start_time": "2020-10-07T18:57:01.927259Z"
    }
   },
   "outputs": [],
   "source": [
    "df = pd.read_csv('sample_data.csv')"
   ]
  },
  {
   "cell_type": "code",
   "execution_count": 7,
   "metadata": {
    "ExecuteTime": {
     "end_time": "2020-10-07T18:57:01.974258Z",
     "start_time": "2020-10-07T18:57:01.959278Z"
    }
   },
   "outputs": [],
   "source": [
    "def safety_analysis(text): #, debug=False\n",
    "    \n",
    "    seed_terms = '''dead died disfigured dying grave incapacitated \n",
    "    killed killing maimed misdiagnosed mortally murdering murderous \n",
    "    mutilated overmedicated overmedicating perished readmitted scarred \n",
    "    succumbed traumatised'''\n",
    "    seed_terms = nlp(seed_terms)\n",
    "    \n",
    "    doc = nlp(text)\n",
    "    \n",
    "    # don't analyse if text is too short\n",
    "    if len(doc)<3:\n",
    "        pass\n",
    "        \n",
    "    else:\n",
    "        # ADD MANUAL CODE (only if button is pressed)\n",
    "        global buttonPressed\n",
    "        if buttonPressed==True:\n",
    "            human_code = df.loc[df['story_id']==randomId, 'safety_incident'].values[0]\n",
    "            if human_code==1:\n",
    "                human_code = 'yes'\n",
    "            if human_code==0:\n",
    "                human_code = 'no'\n",
    "        else:\n",
    "            human_code = 'unknown'\n",
    "        \n",
    "        human_text = [{'text': 'Safety incident = '+human_code,\n",
    "                       'ents': [{'start': 0, 'end': 55, 'label': ''}],\n",
    "                       'title': None}]\n",
    "        human_options = {'colors': {'': 'rgb(250, 0, 0, 0.0)'}}\n",
    "        displacy.render(human_text, style=\"ent\", manual=True, options=human_options, jupyter=True)\n",
    "        # reset button\n",
    "        buttonPressed=False\n",
    "        \n",
    "        # SCORE THE WHOLE DOC\n",
    "        score_label = ''\n",
    "        score = round(seed_terms.similarity(doc), 3)\n",
    "        score_text = [{'text': 'Algorithm score = '+str(score),\n",
    "                          'ents': [{'start': 0, 'end': 23, 'label': score_label}],\n",
    "                          'title': None}]\n",
    "        score_options = {'colors': {score_label: 'rgb(250, 0, 0, '+str((score-0.35)*5)+')'}}  \n",
    "        # render overall score\n",
    "        displacy.render(score_text, style=\"ent\", manual=True, options=score_options, jupyter=True)\n",
    "   \n",
    "        # SCORE EACH SENTENCE\n",
    "        matches = []\n",
    "        for sent in doc.sents:\n",
    "            #print(sent)\n",
    "            if sent.has_vector:\n",
    "                score = round(seed_terms.similarity(sent), 2)\n",
    "                match = {'start': sent.start_char,\n",
    "                         'end': sent.end_char,\n",
    "                         'label': str(score)}\n",
    "                matches.append(match)\n",
    "            else:\n",
    "                pass\n",
    "       \n",
    "        # create display\n",
    "        labels = [x['label'] for x in matches]\n",
    "        # scale colors\n",
    "        label_colors = [round((float(lab)-0.35)*5, 2) for lab in labels]\n",
    "        # create color text\n",
    "        label_colors = ['rgb(250, 0, 0, '+str(alpha)+')' for alpha in label_colors]\n",
    "        # create dictionary of color dictionary\n",
    "        options = {'colors': dict(zip(labels, label_colors))}\n",
    "        display_text = [{\"text\": doc.text,\n",
    "                       \"ents\": matches,\n",
    "                       \"title\": None}]\n",
    "        # render sentences\n",
    "        displacy.render(display_text, style=\"ent\", manual=True, options=options, jupyter=True)\n",
    "        "
   ]
  },
  {
   "cell_type": "markdown",
   "metadata": {},
   "source": [
    "**<font size=\"5\"> Safety Incident Measure Demonstration</font>**\n",
    "\n",
    "This is an interactive dashboard, illustrating an algorithm to measure safety incidents in patient feedback.\n",
    "\n",
    "Press the button to randomly select and analyse patient feedback (or type/paste into the box).\n",
    "\n",
    "*'Safety incident'* refers to whether a human judged the feedback to contain a safety incident.\n",
    "\n",
    "*'Algorithm score'* is the score assigned by the automated text analysis."
   ]
  },
  {
   "cell_type": "code",
   "execution_count": 8,
   "metadata": {
    "ExecuteTime": {
     "end_time": "2020-10-07T18:57:02.022257Z",
     "start_time": "2020-10-07T18:57:01.977259Z"
    }
   },
   "outputs": [
    {
     "data": {
      "application/vnd.jupyter.widget-view+json": {
       "model_id": "1b3d8bc0671944c588572f9f5f4fce6c",
       "version_major": 2,
       "version_minor": 0
      },
      "text/plain": [
       "Button(description='Use an example', icon='random', style=ButtonStyle(), tooltip='Click to randomly select eit…"
      ]
     },
     "metadata": {},
     "output_type": "display_data"
    },
    {
     "data": {
      "application/vnd.jupyter.widget-view+json": {
       "model_id": "7a30a8b3fd2b493aaffa9a8d483e9c8d",
       "version_major": 2,
       "version_minor": 0
      },
      "text/plain": [
       "interactive(children=(Textarea(value='', description='Type text', layout=Layout(height='200px', width='auto'),…"
      ]
     },
     "metadata": {},
     "output_type": "display_data"
    }
   ],
   "source": [
    "textBox = Textarea(\n",
    "    value='', \n",
    "    description='Type text', \n",
    "    placeholder = 'Type or paste text here',\n",
    "    layout=Layout(width=\"auto\", height=\"200px\"))\n",
    "\n",
    "randomButton = widgets.Button(\n",
    "    description='Use an example',\n",
    "    disabled=False,\n",
    "    button_style='',\n",
    "    tooltip='Click to randomly select either high or low scoring feedback',\n",
    "    icon='random'\n",
    ")\n",
    "\n",
    "def on_button_clicked(b):\n",
    "    global randomId\n",
    "    randomId = random.choice(df['story_id'])\n",
    "    # get text\n",
    "    story_text = df.loc[df['story_id']==randomId, 'story'].values[0]\n",
    "    # set value of textbox\n",
    "    textBox.value = story_text\n",
    "    global buttonPressed\n",
    "    buttonPressed=True\n",
    "\n",
    "# global buttonPressed variable to handle free text typing\n",
    "buttonPressed=True\n",
    "    \n",
    "display(randomButton)\n",
    "randomButton.on_click(on_button_clicked)\n",
    "interact(safety_analysis, text=textBox, continuous_update=False);"
   ]
  },
  {
   "cell_type": "code",
   "execution_count": null,
   "metadata": {},
   "outputs": [],
   "source": []
  },
  {
   "cell_type": "code",
   "execution_count": null,
   "metadata": {},
   "outputs": [],
   "source": []
  }
 ],
 "metadata": {
  "kernelspec": {
   "display_name": "Python [conda env:test_w_spacy]",
   "language": "python",
   "name": "conda-env-test_w_spacy-py"
  },
  "language_info": {
   "codemirror_mode": {
    "name": "ipython",
    "version": 3
   },
   "file_extension": ".py",
   "mimetype": "text/x-python",
   "name": "python",
   "nbconvert_exporter": "python",
   "pygments_lexer": "ipython3",
   "version": "3.8.5"
  },
  "toc": {
   "base_numbering": 1,
   "nav_menu": {},
   "number_sections": true,
   "sideBar": true,
   "skip_h1_title": false,
   "title_cell": "Table of Contents",
   "title_sidebar": "Contents",
   "toc_cell": false,
   "toc_position": {},
   "toc_section_display": true,
   "toc_window_display": false
  }
 },
 "nbformat": 4,
 "nbformat_minor": 4
}
